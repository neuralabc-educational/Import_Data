{
  "cells": [
    {
      "cell_type": "markdown",
      "metadata": {
        "id": "view-in-github",
        "colab_type": "text"
      },
      "source": [
        "<a href=\"https://colab.research.google.com/github/neuralabc-educational/Import_Data/blob/main/2023_06_MG_Data_Extrtaction.ipynb\" target=\"_parent\"><img src=\"https://colab.research.google.com/assets/colab-badge.svg\" alt=\"Open In Colab\"/></a>"
      ]
    },
    {
      "cell_type": "code",
      "execution_count": 1,
      "metadata": {
        "colab": {
          "base_uri": "https://localhost:8080/"
        },
        "id": "-sisyjJ0yNWO",
        "outputId": "b4d95ced-eff7-4b28-e60a-ca427d3c644a"
      },
      "outputs": [
        {
          "output_type": "stream",
          "name": "stdout",
          "text": [
            "/content\n",
            "Mounted at /content/gdrive\n",
            "/content\n"
          ]
        }
      ],
      "source": [
        "import os\n",
        "import pandas as pd\n",
        "import glob\n",
        "from google.colab import drive\n",
        "from os.path import join\n",
        "import numpy as np\n",
        "print(os.getcwd())\n",
        "drive.mount('/content/gdrive')\n",
        "print(os.getcwd())"
      ]
    },
    {
      "cell_type": "code",
      "execution_count": 2,
      "metadata": {
        "id": "7llquBsVyawl"
      },
      "outputs": [],
      "source": [
        "#create your 'data' subdirectory in google drive, then create a test file\n",
        "#open it in google drive!\n",
        "#working_dir = '/content/gdrive/My Drive/Colab Notebooks/data/MG_Lab_Data'\n",
        "working_dir = '/content/gdrive/My Drive/Colab Notebooks/data/CM_Data/Data'"
      ]
    },
    {
      "cell_type": "code",
      "execution_count": null,
      "metadata": {
        "colab": {
          "base_uri": "https://localhost:8080/"
        },
        "id": "b-XADGeZy8H_",
        "outputId": "05ea544c-e0dd-45d5-bd3e-c378be50165b"
      },
      "outputs": [
        {
          "output_type": "execute_result",
          "data": {
            "text/plain": [
              "[]"
            ]
          },
          "metadata": {},
          "execution_count": 10
        }
      ],
      "source": [
        "glob.glob(join(working_dir,'*.txt'))"
      ]
    },
    {
      "cell_type": "code",
      "execution_count": 3,
      "metadata": {
        "colab": {
          "base_uri": "https://localhost:8080/"
        },
        "id": "Rj9obXvKClXe",
        "outputId": "8ec41282-43f8-4e97-d380-79fe2228d351"
      },
      "outputs": [
        {
          "output_type": "stream",
          "name": "stdout",
          "text": [
            "/content/gdrive/My Drive/Colab Notebooks/data/CM_Data/Data/CM01-24_36.txt\n"
          ]
        }
      ],
      "source": [
        "fname = glob.glob(join(working_dir,'*.txt'))[0]\n",
        "#fname = glob.glob(join(working_dir,'CM01-01_30.txt'))\n",
        "print(fname)"
      ]
    },
    {
      "cell_type": "code",
      "execution_count": 4,
      "metadata": {
        "id": "kd6U5pGKCkSD"
      },
      "outputs": [],
      "source": [
        "with open(fname,'r') as r:\n",
        "  f = r.readlines()"
      ]
    },
    {
      "cell_type": "code",
      "execution_count": 5,
      "metadata": {
        "colab": {
          "base_uri": "https://localhost:8080/"
        },
        "id": "OacvR8i5C_z9",
        "outputId": "dccac350-8522-4bfb-ef36-59b4610adf7d"
      },
      "outputs": [
        {
          "output_type": "stream",
          "name": "stdout",
          "text": [
            "6: ##\n"
          ]
        }
      ],
      "source": [
        "for idx,line in enumerate(f):\n",
        "  line = line.replace(\"\\n\",\"\")\n",
        "  if line == \"##\":\n",
        "    print(f\"{idx}: {line}\")\n",
        "    break\n",
        "start_idx = idx +1"
      ]
    },
    {
      "cell_type": "code",
      "execution_count": 6,
      "metadata": {
        "id": "gwlKIlDaDsoh"
      },
      "outputs": [],
      "source": [
        "data = f[start_idx:]\n",
        "data = [line.replace(\"\\n\",\"\") for line in data]\n",
        "\n",
        "# d2 = []\n",
        "# for line in data:\n",
        "#   d2.append(line.replace(\"\\n\",\"\"))"
      ]
    },
    {
      "cell_type": "code",
      "source": [
        "data[7]"
      ],
      "metadata": {
        "colab": {
          "base_uri": "https://localhost:8080/",
          "height": 35
        },
        "id": "rmekmlk1icLE",
        "outputId": "782fe7e3-2c9e-418b-d274-0d1cdde37491"
      },
      "execution_count": 17,
      "outputs": [
        {
          "output_type": "execute_result",
          "data": {
            "text/plain": [
              "'-272.2516   O'"
            ],
            "application/vnd.google.colaboratory.intrinsic+json": {
              "type": "string"
            }
          },
          "metadata": {},
          "execution_count": 17
        }
      ]
    },
    {
      "cell_type": "code",
      "execution_count": 20,
      "metadata": {
        "id": "U8-HolmvFKVp"
      },
      "outputs": [],
      "source": [
        "times=[]\n",
        "events=[]\n",
        "\n",
        "for line in data:\n",
        "  l2 = line.split(\"   \")\n",
        "  times.append(l2[0])\n",
        "  events.append(l2[1])"
      ]
    },
    {
      "cell_type": "code",
      "execution_count": 65,
      "metadata": {
        "id": "OKD01jjnFbnO"
      },
      "outputs": [],
      "source": [
        "times = np.array(times).astype(np.float32)\n",
        "events = np.array(events)\n",
        "i_idxs = events=='I'\n",
        "o_idxs = events=='O'\n"
      ]
    },
    {
      "cell_type": "code",
      "source": [
        "strt = np.where(events == 'StartVideo')"
      ],
      "metadata": {
        "id": "bT-TC-x_KouL"
      },
      "execution_count": 11,
      "outputs": []
    },
    {
      "cell_type": "code",
      "source": [
        "strt[0]"
      ],
      "metadata": {
        "colab": {
          "base_uri": "https://localhost:8080/"
        },
        "id": "xAHkdQKsKCa_",
        "outputId": "92665e33-1b28-4653-f1f4-a9d1ac0d8568"
      },
      "execution_count": 14,
      "outputs": [
        {
          "output_type": "execute_result",
          "data": {
            "text/plain": [
              "array([36])"
            ]
          },
          "metadata": {},
          "execution_count": 14
        }
      ]
    },
    {
      "cell_type": "code",
      "source": [
        "np.zeros((5,5)).astype(bool)\n",
        "events[-1]"
      ],
      "metadata": {
        "colab": {
          "base_uri": "https://localhost:8080/",
          "height": 35
        },
        "id": "THlGjyhBo9td",
        "outputId": "163efbc5-72e3-42e7-ef6d-3ffe6f0276c3"
      },
      "execution_count": 36,
      "outputs": [
        {
          "output_type": "execute_result",
          "data": {
            "text/plain": [
              "'end'"
            ],
            "application/vnd.google.colaboratory.intrinsic+json": {
              "type": "string"
            }
          },
          "metadata": {},
          "execution_count": 36
        }
      ]
    },
    {
      "cell_type": "code",
      "source": [],
      "metadata": {
        "colab": {
          "base_uri": "https://localhost:8080/",
          "height": 140
        },
        "id": "zX80uq6JwZFZ",
        "outputId": "2d382d4d-e2aa-4343-c85f-daeadcc25527"
      },
      "execution_count": 63,
      "outputs": [
        {
          "output_type": "error",
          "ename": "SyntaxError",
          "evalue": "ignored",
          "traceback": [
            "\u001b[0;36m  File \u001b[0;32m\"<ipython-input-63-4ac55702f602>\"\u001b[0;36m, line \u001b[0;32m1\u001b[0m\n\u001b[0;31m    a = [1:5]\u001b[0m\n\u001b[0m          ^\u001b[0m\n\u001b[0;31mSyntaxError\u001b[0m\u001b[0;31m:\u001b[0m invalid syntax\n"
          ]
        }
      ]
    },
    {
      "cell_type": "code",
      "source": [
        "Vertices = np.char.isnumeric(events)\n",
        "Inds = np.where(Vertices)\n",
        "Inds = Inds[0]\n",
        "type(Inds)\n",
        "print(Inds[1])\n",
        "print(events[Inds[0]])\n",
        "curr_time = np.arange(int(round(times[Inds[1]]*1000)),int(round(times[Inds[2]]*1000))).astype(np.int64)\n",
        "len(curr_time)\n",
        "print(curr_time[0])\n",
        "print(curr_time[-1])\n"
      ],
      "metadata": {
        "colab": {
          "base_uri": "https://localhost:8080/"
        },
        "id": "BMZwAWfCLlED",
        "outputId": "3926f75f-1b79-4614-8338-939496ce0991"
      },
      "execution_count": 83,
      "outputs": [
        {
          "output_type": "stream",
          "name": "stdout",
          "text": [
            "38\n",
            "133\n",
            "3001\n",
            "6002\n"
          ]
        }
      ]
    },
    {
      "cell_type": "code",
      "source": [
        "sess_end = int(round(times[-1]*1000))\n",
        "IV = np.zeros((146,sess_end))\n",
        "IV[1,np.arange(0,100)] = True\n",
        "print(IV[1,100])"
      ],
      "metadata": {
        "colab": {
          "base_uri": "https://localhost:8080/"
        },
        "id": "oakxPeAgyTDT",
        "outputId": "c56cabc9-225d-45df-ea70-c5e850c86441"
      },
      "execution_count": 78,
      "outputs": [
        {
          "output_type": "stream",
          "name": "stdout",
          "text": [
            "0.0\n"
          ]
        }
      ]
    },
    {
      "cell_type": "code",
      "source": [
        "a = int(events[37])\n",
        "a"
      ],
      "metadata": {
        "colab": {
          "base_uri": "https://localhost:8080/"
        },
        "id": "qtxtyDUB0vKq",
        "outputId": "e8beecd0-b8c1-4773-a70a-edb7587ba302"
      },
      "execution_count": 89,
      "outputs": [
        {
          "output_type": "execute_result",
          "data": {
            "text/plain": [
              "133"
            ]
          },
          "metadata": {},
          "execution_count": 89
        }
      ]
    },
    {
      "cell_type": "code",
      "source": [
        "END = np.where(events == 'end')\n",
        "print(END)"
      ],
      "metadata": {
        "colab": {
          "base_uri": "https://localhost:8080/"
        },
        "id": "eJgy3G9J2_7t",
        "outputId": "7ff23b49-76ff-44e3-c910-b40075fb3748"
      },
      "execution_count": 93,
      "outputs": [
        {
          "output_type": "stream",
          "name": "stdout",
          "text": [
            "(array([5191]),)\n"
          ]
        }
      ]
    },
    {
      "cell_type": "code",
      "source": [
        "#find the end of the session\n",
        "sess_end = int(round(times[-1]*1000))\n",
        "\n",
        "\n",
        "\n",
        "IV = np.zeros((146,sess_end))\n",
        "for n,i in enumerate(Inds):\n",
        "  #get my event:\n",
        "  E = int(events[i])\n",
        "\n",
        "  #The last cue ends at 'end' in the file which is not an integer. Make the last value of Inds the end of the session\n",
        "  if n == len(Inds)-1:\n",
        "    END = np.where(events == 'end')\n",
        "    END = END[0]\n",
        "    #print(END)\n",
        "    curr_time = np.arange(int(round(times[Inds[n]]*1000)),int(round(times[END[0]]*1000))).astype(np.int64)\n",
        "  else:\n",
        "    #get the time from the current event to the next event\n",
        "    curr_time = np.arange(int(round(times[Inds[n]]*1000)),int(round(times[Inds[n+1]]*1000))).astype(np.int64)\n",
        "\n",
        "  IV[E,curr_time] = True\n",
        "\n",
        ""
      ],
      "metadata": {
        "colab": {
          "base_uri": "https://localhost:8080/"
        },
        "id": "SitEKTU5q4JR",
        "outputId": "0cbedad4-28dd-4cd8-b93e-f2f8690172fe"
      },
      "execution_count": 97,
      "outputs": [
        {
          "output_type": "stream",
          "name": "stdout",
          "text": [
            "[5191]\n"
          ]
        }
      ]
    },
    {
      "cell_type": "code",
      "source": [
        "a = np.array([False, False, True]).astype(bool)\n",
        "np.where(a)\n"
      ],
      "metadata": {
        "colab": {
          "base_uri": "https://localhost:8080/"
        },
        "id": "c8v4UMbgmvx9",
        "outputId": "a978c97a-603c-4cd2-e89e-efae773fd421"
      },
      "execution_count": 32,
      "outputs": [
        {
          "output_type": "execute_result",
          "data": {
            "text/plain": [
              "(array([2]),)"
            ]
          },
          "metadata": {},
          "execution_count": 32
        }
      ]
    },
    {
      "cell_type": "code",
      "execution_count": null,
      "metadata": {
        "colab": {
          "base_uri": "https://localhost:8080/",
          "height": 448
        },
        "id": "_a80ZVYiGZMD",
        "outputId": "7b51a4e3-b1f0-4cc4-c9e8-b7d6bc8688af"
      },
      "outputs": [
        {
          "data": {
            "text/plain": [
              "[<matplotlib.lines.Line2D at 0x7f1cf3244310>]"
            ]
          },
          "execution_count": 113,
          "metadata": {},
          "output_type": "execute_result"
        },
        {
          "data": {
            "image/png": "[encoded data removed]",
            "text/plain": [
              "<Figure size 640x480 with 1 Axes>"
            ]
          },
          "metadata": {},
          "output_type": "display_data"
        }
      ],
      "source": [
        "%matplotlib inline\n",
        "from matplotlib import pyplot as plt\n",
        "plt.plot(np.diff(times[0:5000]),'.')"
      ]
    }
  ],
  "metadata": {
    "colab": {
      "provenance": [],
      "include_colab_link": true
    },
    "kernelspec": {
      "display_name": "Python 3 (ipykernel)",
      "language": "python",
      "name": "python3"
    },
    "language_info": {
      "codemirror_mode": {
        "name": "ipython",
        "version": 3
      },
      "file_extension": ".py",
      "mimetype": "text/x-python",
      "name": "python",
      "nbconvert_exporter": "python",
      "pygments_lexer": "ipython3",
      "version": "3.9.13"
    }
  },
  "nbformat": 4,
  "nbformat_minor": 0
}